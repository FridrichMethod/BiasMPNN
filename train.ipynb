{
 "cells": [
  {
   "cell_type": "markdown",
   "metadata": {},
   "source": [
    "# Split data"
   ]
  },
  {
   "cell_type": "code",
   "execution_count": null,
   "metadata": {},
   "outputs": [],
   "source": [
    "import os\n",
    "import random\n",
    "\n",
    "from tqdm.auto import tqdm\n",
    "\n",
    "random.seed(0)"
   ]
  },
  {
   "cell_type": "code",
   "execution_count": null,
   "metadata": {},
   "outputs": [],
   "source": [
    "data = os.listdir(\"./data\")\n",
    "random.shuffle(data)\n",
    "\n",
    "# 80% train, 10% valid, 10% test\n",
    "train = data[: int(len(data) * 0.8)]\n",
    "valid = data[int(len(data) * 0.8) : int(len(data) * 0.9)]\n",
    "test = data[int(len(data) * 0.9) :]\n",
    "\n",
    "with open(\"data/train.txt\", \"w\") as f:\n",
    "    for train_name in tqdm(train):\n",
    "        f.write(f\"{train_name}\\n\")\n",
    "with open(\"data/valid.txt\", \"w\") as f:\n",
    "    for valid_name in tqdm(valid):\n",
    "        f.write(f\"{valid_name}\\n\")\n",
    "with open(\"data/test.txt\", \"w\") as f:\n",
    "    for test_name in tqdm(test):\n",
    "        f.write(f\"{test_name}\\n\")"
   ]
  },
  {
   "cell_type": "markdown",
   "metadata": {},
   "source": [
    "# Train"
   ]
  },
  {
   "cell_type": "code",
   "execution_count": null,
   "metadata": {},
   "outputs": [],
   "source": [
    "from train import run_training"
   ]
  },
  {
   "cell_type": "code",
   "execution_count": null,
   "metadata": {},
   "outputs": [],
   "source": [
    "class TrainingArgs:\n",
    "    def __init__(self):\n",
    "        self.data_dir = \"./data\"\n",
    "        self.train_filename = \"train_small.txt\"\n",
    "        self.valid_filename = \"valid_small.txt\"\n",
    "        self.path_for_outputs = \"./model_params\"\n",
    "        self.previous_checkpoint = \"./model_params/model_weights/epoch100_step100000.pt\"\n",
    "        self.num_epochs = 50\n",
    "        self.save_model_every_n_epochs = 5\n",
    "        self.reload_data_every_n_epochs = 4\n",
    "        self.hidden_dim = 64\n",
    "        self.num_encoder_layers = 3\n",
    "        self.num_decoder_layers = 3\n",
    "        self.num_neighbors = 32\n",
    "        self.dropout = 0.1\n",
    "        self.backbone_noise = 0.2\n",
    "        self.mixed_precision = True\n",
    "\n",
    "\n",
    "args = TrainingArgs()"
   ]
  },
  {
   "cell_type": "code",
   "execution_count": null,
   "metadata": {},
   "outputs": [],
   "source": [
    "run_training(args)"
   ]
  }
 ],
 "metadata": {
  "kernelspec": {
   "display_name": "ligandmpnn",
   "language": "python",
   "name": "python3"
  },
  "language_info": {
   "codemirror_mode": {
    "name": "ipython",
    "version": 3
   },
   "file_extension": ".py",
   "mimetype": "text/x-python",
   "name": "python",
   "nbconvert_exporter": "python",
   "pygments_lexer": "ipython3",
   "version": "3.11.10"
  }
 },
 "nbformat": 4,
 "nbformat_minor": 2
}
