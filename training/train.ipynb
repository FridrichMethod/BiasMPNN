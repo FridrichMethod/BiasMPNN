{
 "cells": [
  {
   "cell_type": "markdown",
   "metadata": {},
   "source": [
    "# Split data"
   ]
  },
  {
   "cell_type": "code",
   "execution_count": null,
   "metadata": {},
   "outputs": [],
   "source": [
    "import os\n",
    "\n",
    "import numpy as np\n",
    "import pandas as pd\n",
    "from tqdm.auto import tqdm"
   ]
  },
  {
   "cell_type": "code",
   "execution_count": null,
   "metadata": {},
   "outputs": [],
   "source": [
    "df = pd.read_csv(\"./annotations/data.csv\")\n",
    "df"
   ]
  },
  {
   "cell_type": "code",
   "execution_count": null,
   "metadata": {},
   "outputs": [],
   "source": [
    "# exists = np.isin(df[\"cluster\"], os.listdir(\"./data\"))\n",
    "# df = df[exists]\n",
    "# df = df.reset_index().rename(columns={\"index\": \"label\"})"
   ]
  },
  {
   "cell_type": "code",
   "execution_count": null,
   "metadata": {},
   "outputs": [],
   "source": [
    "# Split data into train:valid:test = 80:10:10\n",
    "\n",
    "np.random.seed(0)\n",
    "\n",
    "n = len(df)\n",
    "idx = np.random.permutation(n)\n",
    "idx_train = idx[: int(0.8 * n)]\n",
    "idx_valid = idx[int(0.8 * n) : int(0.9 * n)]\n",
    "idx_test = idx[int(0.9 * n) :]\n",
    "\n",
    "split = np.zeros(n, dtype=int)\n",
    "split[idx_train] = 0\n",
    "split[idx_valid] = 1\n",
    "split[idx_test] = 2\n",
    "\n",
    "df[\"split\"] = split\n",
    "\n",
    "df.to_csv(\"./annotations/data.csv\", index=False)\n",
    "df.iloc[idx_train].to_csv(\"./annotations/train.csv\", index=False)  # 80%\n",
    "df.iloc[idx_valid].to_csv(\"./annotations/valid.csv\", index=False)  # 10%\n",
    "df.iloc[idx_test].to_csv(\"./annotations/test.csv\", index=False)  # 10%"
   ]
  },
  {
   "cell_type": "code",
   "execution_count": null,
   "metadata": {},
   "outputs": [],
   "source": [
    "df = pd.read_csv(\"./annotations/data.csv\")\n",
    "df"
   ]
  },
  {
   "cell_type": "markdown",
   "metadata": {},
   "source": [
    "# Train"
   ]
  },
  {
   "cell_type": "code",
   "execution_count": null,
   "metadata": {},
   "outputs": [],
   "source": [
    "!python ../train.py"
   ]
  },
  {
   "cell_type": "markdown",
   "metadata": {},
   "source": [
    "# Test"
   ]
  },
  {
   "cell_type": "code",
   "execution_count": 1,
   "metadata": {},
   "outputs": [],
   "source": [
    "import sys\n",
    "\n",
    "sys.path.append(\"..\")\n",
    "\n",
    "import torch\n",
    "import numpy as np\n",
    "import pandas as pd\n",
    "import matplotlib.pyplot as plt\n",
    "from tqdm.auto import tqdm\n",
    "from score import run_scoring, ProteinMPNNBatch"
   ]
  },
  {
   "cell_type": "markdown",
   "metadata": {},
   "source": [
    "## Plot test set"
   ]
  },
  {
   "cell_type": "code",
   "execution_count": null,
   "metadata": {},
   "outputs": [],
   "source": [
    "# df = pd.read_csv(\"./annotations/test.csv\")\n",
    "# df = df.merge(\n",
    "#     pd.read_csv(\"./annotations/ContactMaps_metadata_public.csv\")[\n",
    "#         [\"CLUSTER_NAME\", \"MAX_RMSD\"]\n",
    "#     ].rename(columns={\"CLUSTER_NAME\": \"cluster\", \"MAX_RMSD\": \"rmsd\"}),\n",
    "#     how=\"inner\",\n",
    "#     on=\"cluster\",\n",
    "# )\n",
    "# df.to_csv(\"./annotations/test_scores.csv\", index=False)"
   ]
  },
  {
   "cell_type": "code",
   "execution_count": 2,
   "metadata": {},
   "outputs": [
    {
     "data": {
      "text/html": [
       "<div>\n",
       "<style scoped>\n",
       "    .dataframe tbody tr th:only-of-type {\n",
       "        vertical-align: middle;\n",
       "    }\n",
       "\n",
       "    .dataframe tbody tr th {\n",
       "        vertical-align: top;\n",
       "    }\n",
       "\n",
       "    .dataframe thead th {\n",
       "        text-align: right;\n",
       "    }\n",
       "</style>\n",
       "<table border=\"1\" class=\"dataframe\">\n",
       "  <thead>\n",
       "    <tr style=\"text-align: right;\">\n",
       "      <th></th>\n",
       "      <th>label</th>\n",
       "      <th>cluster</th>\n",
       "      <th>target_pdbid</th>\n",
       "      <th>template_pdbid</th>\n",
       "      <th>target_chain</th>\n",
       "      <th>template_chain</th>\n",
       "      <th>split</th>\n",
       "      <th>rmsd</th>\n",
       "    </tr>\n",
       "  </thead>\n",
       "  <tbody>\n",
       "    <tr>\n",
       "      <th>0</th>\n",
       "      <td>21538</td>\n",
       "      <td>5m2uB</td>\n",
       "      <td>5m2p</td>\n",
       "      <td>5m2u</td>\n",
       "      <td>A</td>\n",
       "      <td>C</td>\n",
       "      <td>2</td>\n",
       "      <td>1.376</td>\n",
       "    </tr>\n",
       "    <tr>\n",
       "      <th>1</th>\n",
       "      <td>28795</td>\n",
       "      <td>2watA</td>\n",
       "      <td>2wat</td>\n",
       "      <td>2wat</td>\n",
       "      <td>B</td>\n",
       "      <td>A</td>\n",
       "      <td>2</td>\n",
       "      <td>1.588</td>\n",
       "    </tr>\n",
       "    <tr>\n",
       "      <th>2</th>\n",
       "      <td>25993</td>\n",
       "      <td>4be4A</td>\n",
       "      <td>4upd</td>\n",
       "      <td>4be4</td>\n",
       "      <td>A</td>\n",
       "      <td>A</td>\n",
       "      <td>2</td>\n",
       "      <td>3.540</td>\n",
       "    </tr>\n",
       "    <tr>\n",
       "      <th>3</th>\n",
       "      <td>515</td>\n",
       "      <td>4c2eA</td>\n",
       "      <td>4c2d</td>\n",
       "      <td>4c2h</td>\n",
       "      <td>B</td>\n",
       "      <td>A</td>\n",
       "      <td>2</td>\n",
       "      <td>9.256</td>\n",
       "    </tr>\n",
       "    <tr>\n",
       "      <th>4</th>\n",
       "      <td>19209</td>\n",
       "      <td>3fvbA</td>\n",
       "      <td>3fvb</td>\n",
       "      <td>3fvb</td>\n",
       "      <td>B</td>\n",
       "      <td>A</td>\n",
       "      <td>2</td>\n",
       "      <td>0.039</td>\n",
       "    </tr>\n",
       "    <tr>\n",
       "      <th>...</th>\n",
       "      <td>...</td>\n",
       "      <td>...</td>\n",
       "      <td>...</td>\n",
       "      <td>...</td>\n",
       "      <td>...</td>\n",
       "      <td>...</td>\n",
       "      <td>...</td>\n",
       "      <td>...</td>\n",
       "    </tr>\n",
       "    <tr>\n",
       "      <th>3003</th>\n",
       "      <td>14935</td>\n",
       "      <td>1j83A</td>\n",
       "      <td>1j84</td>\n",
       "      <td>1j83</td>\n",
       "      <td>A</td>\n",
       "      <td>A</td>\n",
       "      <td>2</td>\n",
       "      <td>0.291</td>\n",
       "    </tr>\n",
       "    <tr>\n",
       "      <th>3004</th>\n",
       "      <td>20757</td>\n",
       "      <td>3eshA</td>\n",
       "      <td>3esh</td>\n",
       "      <td>3esh</td>\n",
       "      <td>C</td>\n",
       "      <td>A</td>\n",
       "      <td>2</td>\n",
       "      <td>0.460</td>\n",
       "    </tr>\n",
       "    <tr>\n",
       "      <th>3005</th>\n",
       "      <td>32103</td>\n",
       "      <td>1h0xA</td>\n",
       "      <td>3wbm</td>\n",
       "      <td>3wbm</td>\n",
       "      <td>C</td>\n",
       "      <td>A</td>\n",
       "      <td>2</td>\n",
       "      <td>3.167</td>\n",
       "    </tr>\n",
       "    <tr>\n",
       "      <th>3006</th>\n",
       "      <td>30403</td>\n",
       "      <td>3f5fA</td>\n",
       "      <td>4ndz</td>\n",
       "      <td>3f5f</td>\n",
       "      <td>B</td>\n",
       "      <td>A</td>\n",
       "      <td>2</td>\n",
       "      <td>22.790</td>\n",
       "    </tr>\n",
       "    <tr>\n",
       "      <th>3007</th>\n",
       "      <td>2732</td>\n",
       "      <td>4h3oA</td>\n",
       "      <td>4h3o</td>\n",
       "      <td>4h3o</td>\n",
       "      <td>B</td>\n",
       "      <td>A</td>\n",
       "      <td>2</td>\n",
       "      <td>0.646</td>\n",
       "    </tr>\n",
       "  </tbody>\n",
       "</table>\n",
       "<p>3008 rows × 8 columns</p>\n",
       "</div>"
      ],
      "text/plain": [
       "      label cluster target_pdbid template_pdbid target_chain template_chain  \\\n",
       "0     21538   5m2uB         5m2p           5m2u            A              C   \n",
       "1     28795   2watA         2wat           2wat            B              A   \n",
       "2     25993   4be4A         4upd           4be4            A              A   \n",
       "3       515   4c2eA         4c2d           4c2h            B              A   \n",
       "4     19209   3fvbA         3fvb           3fvb            B              A   \n",
       "...     ...     ...          ...            ...          ...            ...   \n",
       "3003  14935   1j83A         1j84           1j83            A              A   \n",
       "3004  20757   3eshA         3esh           3esh            C              A   \n",
       "3005  32103   1h0xA         3wbm           3wbm            C              A   \n",
       "3006  30403   3f5fA         4ndz           3f5f            B              A   \n",
       "3007   2732   4h3oA         4h3o           4h3o            B              A   \n",
       "\n",
       "      split    rmsd  \n",
       "0         2   1.376  \n",
       "1         2   1.588  \n",
       "2         2   3.540  \n",
       "3         2   9.256  \n",
       "4         2   0.039  \n",
       "...     ...     ...  \n",
       "3003      2   0.291  \n",
       "3004      2   0.460  \n",
       "3005      2   3.167  \n",
       "3006      2  22.790  \n",
       "3007      2   0.646  \n",
       "\n",
       "[3008 rows x 8 columns]"
      ]
     },
     "execution_count": 2,
     "metadata": {},
     "output_type": "execute_result"
    }
   ],
   "source": [
    "df = pd.read_csv(\"./annotations/test_scores.csv\")\n",
    "df"
   ]
  },
  {
   "cell_type": "code",
   "execution_count": 3,
   "metadata": {},
   "outputs": [
    {
     "data": {
      "image/png": "[encoded data removed]",
      "text/plain": [
       "<Figure size 640x480 with 1 Axes>"
      ]
     },
     "metadata": {},
     "output_type": "display_data"
    }
   ],
   "source": [
    "plt.hist(df[\"rmsd\"], bins=100)\n",
    "plt.show()"
   ]
  },
  {
   "cell_type": "markdown",
   "metadata": {},
   "source": [
    "## Calculate perplexity"
   ]
  },
  {
   "cell_type": "code",
   "execution_count": 4,
   "metadata": {},
   "outputs": [
    {
     "data": {
      "text/plain": [
       "ProteinMPNNBatch(\n",
       "  (features): ProteinFeatures(\n",
       "    (embeddings): PositionalEncodings(\n",
       "      (linear): Linear(in_features=66, out_features=16, bias=True)\n",
       "    )\n",
       "    (edge_embedding): Linear(in_features=416, out_features=128, bias=False)\n",
       "    (norm_edges): LayerNorm((128,), eps=1e-05, elementwise_affine=True)\n",
       "  )\n",
       "  (W_e): Linear(in_features=128, out_features=128, bias=True)\n",
       "  (W_s): Embedding(21, 128)\n",
       "  (dropout): Dropout(p=0.0, inplace=False)\n",
       "  (encoder_layers): ModuleList(\n",
       "    (0-2): 3 x EncLayer(\n",
       "      (dropout1): Dropout(p=0.0, inplace=False)\n",
       "      (dropout2): Dropout(p=0.0, inplace=False)\n",
       "      (dropout3): Dropout(p=0.0, inplace=False)\n",
       "      (norm1): LayerNorm((128,), eps=1e-05, elementwise_affine=True)\n",
       "      (norm2): LayerNorm((128,), eps=1e-05, elementwise_affine=True)\n",
       "      (norm3): LayerNorm((128,), eps=1e-05, elementwise_affine=True)\n",
       "      (W1): Linear(in_features=384, out_features=128, bias=True)\n",
       "      (W2): Linear(in_features=128, out_features=128, bias=True)\n",
       "      (W3): Linear(in_features=128, out_features=128, bias=True)\n",
       "      (W11): Linear(in_features=384, out_features=128, bias=True)\n",
       "      (W12): Linear(in_features=128, out_features=128, bias=True)\n",
       "      (W13): Linear(in_features=128, out_features=128, bias=True)\n",
       "      (act): GELU(approximate='none')\n",
       "      (dense): PositionWiseFeedForward(\n",
       "        (W_in): Linear(in_features=128, out_features=512, bias=True)\n",
       "        (W_out): Linear(in_features=512, out_features=128, bias=True)\n",
       "        (act): GELU(approximate='none')\n",
       "      )\n",
       "    )\n",
       "  )\n",
       "  (decoder_layers): ModuleList(\n",
       "    (0-2): 3 x DecLayer(\n",
       "      (dropout1): Dropout(p=0.0, inplace=False)\n",
       "      (dropout2): Dropout(p=0.0, inplace=False)\n",
       "      (norm1): LayerNorm((128,), eps=1e-05, elementwise_affine=True)\n",
       "      (norm2): LayerNorm((128,), eps=1e-05, elementwise_affine=True)\n",
       "      (W1): Linear(in_features=512, out_features=128, bias=True)\n",
       "      (W2): Linear(in_features=128, out_features=128, bias=True)\n",
       "      (W3): Linear(in_features=128, out_features=128, bias=True)\n",
       "      (act): GELU(approximate='none')\n",
       "      (dense): PositionWiseFeedForward(\n",
       "        (W_in): Linear(in_features=128, out_features=512, bias=True)\n",
       "        (W_out): Linear(in_features=512, out_features=128, bias=True)\n",
       "        (act): GELU(approximate='none')\n",
       "      )\n",
       "    )\n",
       "  )\n",
       "  (W_out): Linear(in_features=128, out_features=21, bias=True)\n",
       ")"
      ]
     },
     "execution_count": 4,
     "metadata": {},
     "output_type": "execute_result"
    }
   ],
   "source": [
    "device = torch.device(\"cuda\" if torch.cuda.is_available() else \"cpu\")\n",
    "\n",
    "checkpoint = torch.load(\n",
    "    \"../model_params/model_weights/epoch50_step1317250.pt\",\n",
    "    map_location=device,\n",
    "    weights_only=True,\n",
    ")\n",
    "protein_mpnn = ProteinMPNNBatch()\n",
    "protein_mpnn.load_state_dict(checkpoint[\"model_state_dict\"])\n",
    "protein_mpnn.to(device)\n",
    "protein_mpnn.eval()"
   ]
  },
  {
   "cell_type": "code",
   "execution_count": 5,
   "metadata": {},
   "outputs": [],
   "source": [
    "df = pd.read_csv(\"./annotations/test_scores.csv\")"
   ]
  },
  {
   "cell_type": "code",
   "execution_count": 6,
   "metadata": {},
   "outputs": [
    {
     "data": {
      "application/vnd.jupyter.widget-view+json": {
       "model_id": "c15916d09f6b4c4b963d8a023b61f024",
       "version_major": 2,
       "version_minor": 0
      },
      "text/plain": [
       "  0%|          | 0/134 [00:00<?, ?it/s]"
      ]
     },
     "metadata": {},
     "output_type": "display_data"
    }
   ],
   "source": [
    "df_large_rmsd = df[df[\"rmsd\"] > 5]\n",
    "scores = []\n",
    "for row in tqdm(list(df_large_rmsd.itertuples())):\n",
    "    cluster = row.cluster\n",
    "    rmsd = row.rmsd\n",
    "\n",
    "    feature_dir = f\"./dataset/{cluster}\"\n",
    "\n",
    "    perplexity = run_scoring(protein_mpnn, feature_dir)[2].item()\n",
    "\n",
    "    scores.append(\n",
    "        [\n",
    "            row.cluster,\n",
    "            row.rmsd,\n",
    "            perplexity,\n",
    "        ]\n",
    "    )\n",
    "df_large_rmsd_scores = pd.DataFrame(scores, columns=[\"cluster\", \"rmsd\", \"perplexity\"])\n",
    "df_large_rmsd_scores.to_csv(\"./annotations/test_scores_large_rmsd.csv\", index=False)"
   ]
  },
  {
   "cell_type": "code",
   "execution_count": 7,
   "metadata": {},
   "outputs": [
    {
     "data": {
      "application/vnd.jupyter.widget-view+json": {
       "model_id": "cfb1dfc0d6df4d9e82438b9ea7329b74",
       "version_major": 2,
       "version_minor": 0
      },
      "text/plain": [
       "  0%|          | 0/912 [00:00<?, ?it/s]"
      ]
     },
     "metadata": {},
     "output_type": "display_data"
    }
   ],
   "source": [
    "df_small_rmsd = df[df[\"rmsd\"] < 0.5]\n",
    "scores = []\n",
    "for row in tqdm(list(df_small_rmsd.itertuples())):\n",
    "    cluster = row.cluster\n",
    "    rmsd = row.rmsd\n",
    "\n",
    "    feature_dir = f\"./dataset/{cluster}\"\n",
    "\n",
    "    perplexity = run_scoring(protein_mpnn, feature_dir)[2].item()\n",
    "\n",
    "    scores.append(\n",
    "        [\n",
    "            row.cluster,\n",
    "            row.rmsd,\n",
    "            perplexity,\n",
    "        ]\n",
    "    )\n",
    "df_small_rmsd_scores = pd.DataFrame(scores, columns=[\"cluster\", \"rmsd\", \"perplexity\"])\n",
    "df_small_rmsd_scores.to_csv(\"./annotations/test_scores_small_rmsd.csv\", index=False)"
   ]
  },
  {
   "cell_type": "markdown",
   "metadata": {},
   "source": [
    "## Plot perplexity"
   ]
  },
  {
   "cell_type": "code",
   "execution_count": 8,
   "metadata": {},
   "outputs": [
    {
     "data": {
      "image/png": "[encoded data removed]",
      "text/plain": [
       "<Figure size 640x480 with 1 Axes>"
      ]
     },
     "metadata": {},
     "output_type": "display_data"
    }
   ],
   "source": [
    "df = pd.read_csv(\"../training/annotations/test_scores_large_rmsd.csv\")\n",
    "df = df[df[\"perplexity\"] < 12]\n",
    "\n",
    "# linear regression\n",
    "slope, intercept = np.polyfit(df[\"rmsd\"], df[\"perplexity\"], 1)\n",
    "\n",
    "# plot\n",
    "plt.scatter(df[\"rmsd\"], df[\"perplexity\"], alpha=0.75, c=df[\"rmsd\"], cmap=\"coolwarm\")\n",
    "plt.plot(df[\"rmsd\"], slope * df[\"rmsd\"] + intercept, color=\"red\")\n",
    "plt.xlabel(\"RMSD\")\n",
    "plt.ylabel(\"Perplexity\")\n",
    "plt.show()"
   ]
  },
  {
   "cell_type": "code",
   "execution_count": 9,
   "metadata": {},
   "outputs": [
    {
     "data": {
      "image/png": "[encoded data removed]",
      "text/plain": [
       "<Figure size 640x480 with 1 Axes>"
      ]
     },
     "metadata": {},
     "output_type": "display_data"
    },
    {
     "data": {
      "text/plain": [
       "(6.579956373493922, 7.6385313405919435)"
      ]
     },
     "execution_count": 9,
     "metadata": {},
     "output_type": "execute_result"
    }
   ],
   "source": [
    "df_small_rmsd_scores = pd.read_csv(\"../training/annotations/test_scores_small_rmsd.csv\")\n",
    "df_large_rmsd_scores = pd.read_csv(\"../training/annotations/test_scores_large_rmsd.csv\")\n",
    "\n",
    "plt.hist(df_small_rmsd_scores[\"perplexity\"], bins=30, alpha=0.5)\n",
    "plt.hist(df_large_rmsd_scores[\"perplexity\"], bins=30, alpha=0.5)\n",
    "plt.xlabel(\"Perplexity\")\n",
    "plt.ylabel(\"Frequency\")\n",
    "plt.legend([\"Small RMSD\", \"Large RMSD\"])\n",
    "plt.show()\n",
    "\n",
    "df_small_rmsd_scores[\"perplexity\"].mean(), df_large_rmsd_scores[\"perplexity\"].mean()"
   ]
  }
 ],
 "metadata": {
  "kernelspec": {
   "display_name": "ligandmpnn",
   "language": "python",
   "name": "python3"
  },
  "language_info": {
   "codemirror_mode": {
    "name": "ipython",
    "version": 3
   },
   "file_extension": ".py",
   "mimetype": "text/x-python",
   "name": "python",
   "nbconvert_exporter": "python",
   "pygments_lexer": "ipython3",
   "version": "3.11.10"
  }
 },
 "nbformat": 4,
 "nbformat_minor": 2
}
